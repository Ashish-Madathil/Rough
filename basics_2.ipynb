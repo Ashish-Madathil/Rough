{
  "nbformat": 4,
  "nbformat_minor": 0,
  "metadata": {
    "colab": {
      "name": "basics 2.ipynb",
      "provenance": [],
      "collapsed_sections": []
    },
    "kernelspec": {
      "name": "python3",
      "display_name": "Python 3"
    }
  },
  "cells": [
    {
      "cell_type": "code",
      "metadata": {
        "colab": {
          "base_uri": "https://localhost:8080/"
        },
        "id": "JUtGK7gnCYAe",
        "outputId": "80dbcd98-aae3-4bbd-951d-84e0f289d7e5"
      },
      "source": [
        "print('Hello world')"
      ],
      "execution_count": 1,
      "outputs": [
        {
          "output_type": "stream",
          "text": [
            "Hello world\n"
          ],
          "name": "stdout"
        }
      ]
    },
    {
      "cell_type": "code",
      "metadata": {
        "colab": {
          "base_uri": "https://localhost:8080/"
        },
        "id": "9_gNgYW1C6Cn",
        "outputId": "a5b0ba65-4cca-43d7-d2f2-9c17be3d6433"
      },
      "source": [
        "print(\"Hello world's program\")"
      ],
      "execution_count": 2,
      "outputs": [
        {
          "output_type": "stream",
          "text": [
            "Hello world's program\n"
          ],
          "name": "stdout"
        }
      ]
    },
    {
      "cell_type": "code",
      "metadata": {
        "id": "yWGjPVLQDL32"
      },
      "source": [
        "course = 'Python for Beginners'"
      ],
      "execution_count": 3,
      "outputs": []
    },
    {
      "cell_type": "code",
      "metadata": {
        "colab": {
          "base_uri": "https://localhost:8080/",
          "height": 35
        },
        "id": "oDeAwCQ3Di8D",
        "outputId": "da19bbe4-ca7e-414d-eea2-6fd6ad6fef19"
      },
      "source": [
        "course"
      ],
      "execution_count": 4,
      "outputs": [
        {
          "output_type": "execute_result",
          "data": {
            "application/vnd.google.colaboratory.intrinsic+json": {
              "type": "string"
            },
            "text/plain": [
              "'Python for Beginners'"
            ]
          },
          "metadata": {
            "tags": []
          },
          "execution_count": 4
        }
      ]
    },
    {
      "cell_type": "code",
      "metadata": {
        "colab": {
          "base_uri": "https://localhost:8080/"
        },
        "id": "vdKCjSjXDkbk",
        "outputId": "b485277c-0920-4901-a4bb-79ee71eed2dd"
      },
      "source": [
        "type(course)"
      ],
      "execution_count": 5,
      "outputs": [
        {
          "output_type": "execute_result",
          "data": {
            "text/plain": [
              "str"
            ]
          },
          "metadata": {
            "tags": []
          },
          "execution_count": 5
        }
      ]
    },
    {
      "cell_type": "markdown",
      "metadata": {
        "id": "X0c16iFGDsXL"
      },
      "source": [
        "To check the data type"
      ]
    },
    {
      "cell_type": "code",
      "metadata": {
        "colab": {
          "base_uri": "https://localhost:8080/",
          "height": 35
        },
        "id": "MWfHIfJ7DnH6",
        "outputId": "21c77c03-58dc-4076-a35e-92271b2764ca"
      },
      "source": [
        "course[:]"
      ],
      "execution_count": 6,
      "outputs": [
        {
          "output_type": "execute_result",
          "data": {
            "application/vnd.google.colaboratory.intrinsic+json": {
              "type": "string"
            },
            "text/plain": [
              "'Python for Beginners'"
            ]
          },
          "metadata": {
            "tags": []
          },
          "execution_count": 6
        }
      ]
    },
    {
      "cell_type": "code",
      "metadata": {
        "colab": {
          "base_uri": "https://localhost:8080/",
          "height": 35
        },
        "id": "CE1-5cbfEKhV",
        "outputId": "57024eb4-6147-4128-8d5b-c44ef12ef93d"
      },
      "source": [
        "course[:6]"
      ],
      "execution_count": 8,
      "outputs": [
        {
          "output_type": "execute_result",
          "data": {
            "application/vnd.google.colaboratory.intrinsic+json": {
              "type": "string"
            },
            "text/plain": [
              "'Python'"
            ]
          },
          "metadata": {
            "tags": []
          },
          "execution_count": 8
        }
      ]
    },
    {
      "cell_type": "code",
      "metadata": {
        "colab": {
          "base_uri": "https://localhost:8080/",
          "height": 35
        },
        "id": "jLt4ITHcERbK",
        "outputId": "0d519a6a-a6ad-4b30-9437-3c3556b07e36"
      },
      "source": [
        "course[:-1]"
      ],
      "execution_count": 9,
      "outputs": [
        {
          "output_type": "execute_result",
          "data": {
            "application/vnd.google.colaboratory.intrinsic+json": {
              "type": "string"
            },
            "text/plain": [
              "'Python for Beginner'"
            ]
          },
          "metadata": {
            "tags": []
          },
          "execution_count": 9
        }
      ]
    },
    {
      "cell_type": "code",
      "metadata": {
        "colab": {
          "base_uri": "https://localhost:8080/"
        },
        "id": "r0yD7ExnEkRM",
        "outputId": "87b5e369-adee-401b-bb64-d368f923910f"
      },
      "source": [
        "first = \"Rahul\"\r\n",
        "last = \"Singh\"\r\n",
        "message = first + ' ' + last + ' is a data scientist'\r\n",
        "print(message)"
      ],
      "execution_count": 11,
      "outputs": [
        {
          "output_type": "stream",
          "text": [
            "Rahul Singh is a data scientist\n"
          ],
          "name": "stdout"
        }
      ]
    },
    {
      "cell_type": "code",
      "metadata": {
        "colab": {
          "base_uri": "https://localhost:8080/"
        },
        "id": "dLwyvIoaGHUk",
        "outputId": "216c30ad-35ad-444c-9cdc-e3f12e4864d8"
      },
      "source": [
        "print(f'{first} {last}')"
      ],
      "execution_count": 12,
      "outputs": [
        {
          "output_type": "stream",
          "text": [
            "Rahul Singh\n"
          ],
          "name": "stdout"
        }
      ]
    },
    {
      "cell_type": "code",
      "metadata": {
        "colab": {
          "base_uri": "https://localhost:8080/"
        },
        "id": "T0bmOlH7GgOB",
        "outputId": "bfdc4963-6f96-4a01-ab40-b6e096d7b208"
      },
      "source": [
        "print(type(10))\r\n",
        "print(type(10.5))\r\n",
        "print(type('String'))\r\n",
        "print(type(True))"
      ],
      "execution_count": 13,
      "outputs": [
        {
          "output_type": "stream",
          "text": [
            "<class 'int'>\n",
            "<class 'float'>\n",
            "<class 'str'>\n",
            "<class 'bool'>\n"
          ],
          "name": "stdout"
        }
      ]
    },
    {
      "cell_type": "code",
      "metadata": {
        "colab": {
          "base_uri": "https://localhost:8080/"
        },
        "id": "2vQvSVRvHKDz",
        "outputId": "2605f67d-e648-480a-91c1-01c59053c1d7"
      },
      "source": [
        "(type(10))\r\n",
        "(type(10.5))\r\n",
        "(type('String'))\r\n",
        "(type(True))"
      ],
      "execution_count": 14,
      "outputs": [
        {
          "output_type": "execute_result",
          "data": {
            "text/plain": [
              "bool"
            ]
          },
          "metadata": {
            "tags": []
          },
          "execution_count": 14
        }
      ]
    },
    {
      "cell_type": "code",
      "metadata": {
        "colab": {
          "base_uri": "https://localhost:8080/"
        },
        "id": "QdpZkmpPHTjs",
        "outputId": "f8029817-e3ae-471d-d7bb-35d019ec44f5"
      },
      "source": [
        "name = input('Name ?\\n')"
      ],
      "execution_count": 16,
      "outputs": [
        {
          "output_type": "stream",
          "text": [
            "Name ?\n",
            "Liqzan\n"
          ],
          "name": "stdout"
        }
      ]
    },
    {
      "cell_type": "code",
      "metadata": {
        "colab": {
          "base_uri": "https://localhost:8080/",
          "height": 35
        },
        "id": "i53BGq_LHqUd",
        "outputId": "190ffc43-7f9f-4c73-de01-5f6f30555bfa"
      },
      "source": [
        "name"
      ],
      "execution_count": 17,
      "outputs": [
        {
          "output_type": "execute_result",
          "data": {
            "application/vnd.google.colaboratory.intrinsic+json": {
              "type": "string"
            },
            "text/plain": [
              "'Liqzan'"
            ]
          },
          "metadata": {
            "tags": []
          },
          "execution_count": 17
        }
      ]
    },
    {
      "cell_type": "markdown",
      "metadata": {
        "id": "K5fcgSs_IJDo"
      },
      "source": [
        "First ask the name of the person\r\n",
        "secondly, ash his weight in Kgs\r\n",
        "You need to reply the person with his/her weight in Pounds"
      ]
    },
    {
      "cell_type": "code",
      "metadata": {
        "colab": {
          "base_uri": "https://localhost:8080/",
          "height": 35
        },
        "id": "sTUCJDRdH1TV",
        "outputId": "585e652c-75ff-4af5-c09a-0a1358f97bcf"
      },
      "source": [
        "course"
      ],
      "execution_count": 18,
      "outputs": [
        {
          "output_type": "execute_result",
          "data": {
            "application/vnd.google.colaboratory.intrinsic+json": {
              "type": "string"
            },
            "text/plain": [
              "'Python for Beginners'"
            ]
          },
          "metadata": {
            "tags": []
          },
          "execution_count": 18
        }
      ]
    },
    {
      "cell_type": "code",
      "metadata": {
        "colab": {
          "base_uri": "https://localhost:8080/",
          "height": 35
        },
        "id": "OdWqwMWWIugM",
        "outputId": "cf877a6a-8486-458a-c55e-0c1aecf44d6e"
      },
      "source": [
        "course.upper()"
      ],
      "execution_count": 19,
      "outputs": [
        {
          "output_type": "execute_result",
          "data": {
            "application/vnd.google.colaboratory.intrinsic+json": {
              "type": "string"
            },
            "text/plain": [
              "'PYTHON FOR BEGINNERS'"
            ]
          },
          "metadata": {
            "tags": []
          },
          "execution_count": 19
        }
      ]
    },
    {
      "cell_type": "code",
      "metadata": {
        "colab": {
          "base_uri": "https://localhost:8080/",
          "height": 35
        },
        "id": "eYlP_KSVIzdk",
        "outputId": "48486461-e22c-4668-80ac-501708ea8e32"
      },
      "source": [
        "course.lower()"
      ],
      "execution_count": 20,
      "outputs": [
        {
          "output_type": "execute_result",
          "data": {
            "application/vnd.google.colaboratory.intrinsic+json": {
              "type": "string"
            },
            "text/plain": [
              "'python for beginners'"
            ]
          },
          "metadata": {
            "tags": []
          },
          "execution_count": 20
        }
      ]
    },
    {
      "cell_type": "code",
      "metadata": {
        "colab": {
          "base_uri": "https://localhost:8080/",
          "height": 35
        },
        "id": "MrsRxMFAI5Lr",
        "outputId": "ca9a6814-4f62-4375-b5c4-5bff955c084f"
      },
      "source": [
        "course.title()"
      ],
      "execution_count": 21,
      "outputs": [
        {
          "output_type": "execute_result",
          "data": {
            "application/vnd.google.colaboratory.intrinsic+json": {
              "type": "string"
            },
            "text/plain": [
              "'Python For Beginners'"
            ]
          },
          "metadata": {
            "tags": []
          },
          "execution_count": 21
        }
      ]
    },
    {
      "cell_type": "code",
      "metadata": {
        "colab": {
          "base_uri": "https://localhost:8080/"
        },
        "id": "IQiLRHxbI9Ho",
        "outputId": "833f18f1-c2ce-4c30-e691-f940b8ef80fe"
      },
      "source": [
        "temp = int(input('Please enter the temperature: '))"
      ],
      "execution_count": 31,
      "outputs": [
        {
          "output_type": "stream",
          "text": [
            "Please enter the temperature: 25\n"
          ],
          "name": "stdout"
        }
      ]
    },
    {
      "cell_type": "code",
      "metadata": {
        "colab": {
          "base_uri": "https://localhost:8080/"
        },
        "id": "xpE3YPx9KHEz",
        "outputId": "99971156-f19a-4d26-b113-aa98fc0e6708"
      },
      "source": [
        "temp"
      ],
      "execution_count": 30,
      "outputs": [
        {
          "output_type": "execute_result",
          "data": {
            "text/plain": [
              "25"
            ]
          },
          "metadata": {
            "tags": []
          },
          "execution_count": 30
        }
      ]
    },
    {
      "cell_type": "code",
      "metadata": {
        "colab": {
          "base_uri": "https://localhost:8080/"
        },
        "id": "Z-IJiLhSKKn_",
        "outputId": "6b543f27-e1c3-4487-a7db-4d08ea4bfff7"
      },
      "source": [
        "type(temp)"
      ],
      "execution_count": 28,
      "outputs": [
        {
          "output_type": "execute_result",
          "data": {
            "text/plain": [
              "int"
            ]
          },
          "metadata": {
            "tags": []
          },
          "execution_count": 28
        }
      ]
    },
    {
      "cell_type": "code",
      "metadata": {
        "colab": {
          "base_uri": "https://localhost:8080/"
        },
        "id": "fy8VCkFxKODk",
        "outputId": "b9470f81-db96-4e48-c094-c2f76afd6dea"
      },
      "source": [
        "temp = int(input('Please enter the temperature: '))\r\n",
        "\r\n",
        "if temp > 30:\r\n",
        "  print(\"It's a Hot day\")\r\n",
        "elif temp < 10:\r\n",
        "  print(\"It's a cold day\")\r\n",
        "else:\r\n",
        "  print(\"It's a pleasant day\")"
      ],
      "execution_count": 35,
      "outputs": [
        {
          "output_type": "stream",
          "text": [
            "Please enter the temperature: 30\n",
            "It's a pleasant day\n"
          ],
          "name": "stdout"
        }
      ]
    },
    {
      "cell_type": "code",
      "metadata": {
        "id": "fSk_XGnQMGva"
      },
      "source": [
        ""
      ],
      "execution_count": 34,
      "outputs": []
    }
  ]
}