{
  "nbformat": 4,
  "nbformat_minor": 0,
  "metadata": {
    "colab": {
      "name": "Rough_Random.ipynb",
      "provenance": [],
      "collapsed_sections": [],
      "authorship_tag": "ABX9TyNoyiA/PTqTYlKLZJxpL0/j",
      "include_colab_link": true
    },
    "kernelspec": {
      "name": "python3",
      "display_name": "Python 3"
    }
  },
  "cells": [
    {
      "cell_type": "markdown",
      "metadata": {
        "id": "view-in-github",
        "colab_type": "text"
      },
      "source": [
        "<a href=\"https://colab.research.google.com/github/Ashish-Madathil/Rough/blob/main/Rough_Random.ipynb\" target=\"_parent\"><img src=\"https://colab.research.google.com/assets/colab-badge.svg\" alt=\"Open In Colab\"/></a>"
      ]
    },
    {
      "cell_type": "code",
      "metadata": {
        "colab": {
          "base_uri": "https://localhost:8080/"
        },
        "id": "JSYD_HutABHc",
        "outputId": "e561bc28-f892-4c90-b6ee-8c2c908b05e4"
      },
      "source": [
        "print (\"Hello\")\r\n"
      ],
      "execution_count": null,
      "outputs": [
        {
          "output_type": "stream",
          "text": [
            "Hello\n"
          ],
          "name": "stdout"
        }
      ]
    },
    {
      "cell_type": "code",
      "metadata": {
        "id": "uSTXyTbzBpON"
      },
      "source": [
        "x = 50000.5"
      ],
      "execution_count": null,
      "outputs": []
    },
    {
      "cell_type": "code",
      "metadata": {
        "colab": {
          "base_uri": "https://localhost:8080/"
        },
        "id": "9dXJ_tNUBybv",
        "outputId": "d352e823-d338-4396-c7fa-2fab2d6d0385"
      },
      "source": [
        "x"
      ],
      "execution_count": null,
      "outputs": [
        {
          "output_type": "execute_result",
          "data": {
            "text/plain": [
              "50000.5"
            ]
          },
          "metadata": {
            "tags": []
          },
          "execution_count": 16
        }
      ]
    },
    {
      "cell_type": "code",
      "metadata": {
        "id": "ETFhYmEkCgUk"
      },
      "source": [
        "x=x+7"
      ],
      "execution_count": null,
      "outputs": []
    },
    {
      "cell_type": "code",
      "metadata": {
        "colab": {
          "base_uri": "https://localhost:8080/"
        },
        "id": "S_aqYvmMB0dt",
        "outputId": "c409a726-aa3d-4f9d-9398-76c7a5a0935e"
      },
      "source": [
        "x"
      ],
      "execution_count": null,
      "outputs": [
        {
          "output_type": "execute_result",
          "data": {
            "text/plain": [
              "50007.5"
            ]
          },
          "metadata": {
            "tags": []
          },
          "execution_count": 18
        }
      ]
    },
    {
      "cell_type": "code",
      "metadata": {
        "colab": {
          "base_uri": "https://localhost:8080/"
        },
        "id": "1MnJFbIWCkZ2",
        "outputId": "97d48cd2-3fe1-4e45-a8b5-43b623af031e"
      },
      "source": [
        "type(x)"
      ],
      "execution_count": null,
      "outputs": [
        {
          "output_type": "execute_result",
          "data": {
            "text/plain": [
              "float"
            ]
          },
          "metadata": {
            "tags": []
          },
          "execution_count": 19
        }
      ]
    },
    {
      "cell_type": "code",
      "metadata": {
        "id": "eY-RZ-WlDiRE"
      },
      "source": [
        "course = \"Python for beginners\""
      ],
      "execution_count": null,
      "outputs": []
    },
    {
      "cell_type": "code",
      "metadata": {
        "colab": {
          "base_uri": "https://localhost:8080/",
          "height": 35
        },
        "id": "OyeZRmOED5G1",
        "outputId": "c63bbbb2-94e5-44dc-e378-b6a277b27996"
      },
      "source": [
        "course"
      ],
      "execution_count": null,
      "outputs": [
        {
          "output_type": "execute_result",
          "data": {
            "application/vnd.google.colaboratory.intrinsic+json": {
              "type": "string"
            },
            "text/plain": [
              "'Python for beginners'"
            ]
          },
          "metadata": {
            "tags": []
          },
          "execution_count": 2
        }
      ]
    },
    {
      "cell_type": "code",
      "metadata": {
        "colab": {
          "base_uri": "https://localhost:8080/"
        },
        "id": "-E1CjXiwEFdE",
        "outputId": "5a3d6c19-de11-41df-b8ea-5e4ed0a68c12"
      },
      "source": [
        "type(course)"
      ],
      "execution_count": null,
      "outputs": [
        {
          "output_type": "execute_result",
          "data": {
            "text/plain": [
              "str"
            ]
          },
          "metadata": {
            "tags": []
          },
          "execution_count": 3
        }
      ]
    },
    {
      "cell_type": "code",
      "metadata": {
        "colab": {
          "base_uri": "https://localhost:8080/",
          "height": 35
        },
        "id": "LK207YioEO3v",
        "outputId": "a90b545d-286e-4f99-fa28-4a7799f5a20b"
      },
      "source": [
        "course[5:-1]"
      ],
      "execution_count": null,
      "outputs": [
        {
          "output_type": "execute_result",
          "data": {
            "application/vnd.google.colaboratory.intrinsic+json": {
              "type": "string"
            },
            "text/plain": [
              "'n for beginner'"
            ]
          },
          "metadata": {
            "tags": []
          },
          "execution_count": 14
        }
      ]
    },
    {
      "cell_type": "code",
      "metadata": {
        "colab": {
          "base_uri": "https://localhost:8080/",
          "height": 35
        },
        "id": "QETfnet0EhGT",
        "outputId": "700c67b4-ae7d-4570-c56e-287052f91cbe"
      },
      "source": [
        "course[-5:-1]"
      ],
      "execution_count": null,
      "outputs": [
        {
          "output_type": "execute_result",
          "data": {
            "application/vnd.google.colaboratory.intrinsic+json": {
              "type": "string"
            },
            "text/plain": [
              "'nner'"
            ]
          },
          "metadata": {
            "tags": []
          },
          "execution_count": 7
        }
      ]
    },
    {
      "cell_type": "code",
      "metadata": {
        "colab": {
          "base_uri": "https://localhost:8080/",
          "height": 35
        },
        "id": "MmbKqxcIE2rV",
        "outputId": "2f3eb637-a89f-45a4-ef48-72b7ba7c0b1d"
      },
      "source": [
        "course[-1:]"
      ],
      "execution_count": null,
      "outputs": [
        {
          "output_type": "execute_result",
          "data": {
            "application/vnd.google.colaboratory.intrinsic+json": {
              "type": "string"
            },
            "text/plain": [
              "'s'"
            ]
          },
          "metadata": {
            "tags": []
          },
          "execution_count": 8
        }
      ]
    },
    {
      "cell_type": "code",
      "metadata": {
        "colab": {
          "base_uri": "https://localhost:8080/",
          "height": 35
        },
        "id": "vyz8R9w5FC8Z",
        "outputId": "cabf92fe-9600-4bbd-be78-17fbec006f90"
      },
      "source": [
        "course[:1]"
      ],
      "execution_count": null,
      "outputs": [
        {
          "output_type": "execute_result",
          "data": {
            "application/vnd.google.colaboratory.intrinsic+json": {
              "type": "string"
            },
            "text/plain": [
              "'P'"
            ]
          },
          "metadata": {
            "tags": []
          },
          "execution_count": 9
        }
      ]
    },
    {
      "cell_type": "code",
      "metadata": {
        "colab": {
          "base_uri": "https://localhost:8080/",
          "height": 35
        },
        "id": "xbdBlVTsFOQx",
        "outputId": "21d6385c-0362-4d82-9f78-58a96860dfff"
      },
      "source": [
        "course[:2]"
      ],
      "execution_count": null,
      "outputs": [
        {
          "output_type": "execute_result",
          "data": {
            "application/vnd.google.colaboratory.intrinsic+json": {
              "type": "string"
            },
            "text/plain": [
              "'Py'"
            ]
          },
          "metadata": {
            "tags": []
          },
          "execution_count": 10
        }
      ]
    },
    {
      "cell_type": "code",
      "metadata": {
        "colab": {
          "base_uri": "https://localhost:8080/",
          "height": 35
        },
        "id": "t5c_zO8YFbRC",
        "outputId": "bc0aaf9f-16e9-4b1f-9b31-4e325ddf92a2"
      },
      "source": [
        "course[0:6]"
      ],
      "execution_count": null,
      "outputs": [
        {
          "output_type": "execute_result",
          "data": {
            "application/vnd.google.colaboratory.intrinsic+json": {
              "type": "string"
            },
            "text/plain": [
              "'Python'"
            ]
          },
          "metadata": {
            "tags": []
          },
          "execution_count": 12
        }
      ]
    },
    {
      "cell_type": "code",
      "metadata": {
        "colab": {
          "base_uri": "https://localhost:8080/",
          "height": 35
        },
        "id": "a5zU9zqRFunj",
        "outputId": "049f62c7-6426-476b-d408-67bbc742eeeb"
      },
      "source": [
        "course[-11:-1]"
      ],
      "execution_count": null,
      "outputs": [
        {
          "output_type": "execute_result",
          "data": {
            "application/vnd.google.colaboratory.intrinsic+json": {
              "type": "string"
            },
            "text/plain": [
              "'r beginner'"
            ]
          },
          "metadata": {
            "tags": []
          },
          "execution_count": 13
        }
      ]
    },
    {
      "cell_type": "code",
      "metadata": {
        "colab": {
          "base_uri": "https://localhost:8080/",
          "height": 35
        },
        "id": "FPh9j8O2F7_x",
        "outputId": "0bd34136-bd4c-4dfd-ac04-cbac656efefa"
      },
      "source": [
        "course[-11:]"
      ],
      "execution_count": null,
      "outputs": [
        {
          "output_type": "execute_result",
          "data": {
            "application/vnd.google.colaboratory.intrinsic+json": {
              "type": "string"
            },
            "text/plain": [
              "'r beginners'"
            ]
          },
          "metadata": {
            "tags": []
          },
          "execution_count": 15
        }
      ]
    },
    {
      "cell_type": "code",
      "metadata": {
        "colab": {
          "base_uri": "https://localhost:8080/",
          "height": 35
        },
        "id": "WJxf4aO6GH6Q",
        "outputId": "b870f133-dc94-4122-988d-368e81267697"
      },
      "source": [
        "course[-9:0]"
      ],
      "execution_count": null,
      "outputs": [
        {
          "output_type": "execute_result",
          "data": {
            "application/vnd.google.colaboratory.intrinsic+json": {
              "type": "string"
            },
            "text/plain": [
              "''"
            ]
          },
          "metadata": {
            "tags": []
          },
          "execution_count": 16
        }
      ]
    },
    {
      "cell_type": "code",
      "metadata": {
        "colab": {
          "base_uri": "https://localhost:8080/",
          "height": 35
        },
        "id": "ibJFy7fwGR1y",
        "outputId": "197562b1-0bcb-4790-d94a-b63cfe1931fe"
      },
      "source": [
        "course[-9:-1]"
      ],
      "execution_count": null,
      "outputs": [
        {
          "output_type": "execute_result",
          "data": {
            "application/vnd.google.colaboratory.intrinsic+json": {
              "type": "string"
            },
            "text/plain": [
              "'beginner'"
            ]
          },
          "metadata": {
            "tags": []
          },
          "execution_count": 17
        }
      ]
    },
    {
      "cell_type": "code",
      "metadata": {
        "id": "g07F8jImGXd4"
      },
      "source": [
        "name = 'Batman'\r\n",
        "comic = name + ' '+'&'+' '+'Robin'"
      ],
      "execution_count": null,
      "outputs": []
    },
    {
      "cell_type": "code",
      "metadata": {
        "colab": {
          "base_uri": "https://localhost:8080/",
          "height": 35
        },
        "id": "713LHvy5Gq8L",
        "outputId": "cf462d73-22ad-4fd9-f7ed-edf69f1cc112"
      },
      "source": [
        "comic\r\n"
      ],
      "execution_count": null,
      "outputs": [
        {
          "output_type": "execute_result",
          "data": {
            "application/vnd.google.colaboratory.intrinsic+json": {
              "type": "string"
            },
            "text/plain": [
              "'Batman & Robin'"
            ]
          },
          "metadata": {
            "tags": []
          },
          "execution_count": 22
        }
      ]
    },
    {
      "cell_type": "code",
      "metadata": {
        "colab": {
          "base_uri": "https://localhost:8080/"
        },
        "id": "GbkvHfafG0m3",
        "outputId": "89132b60-1994-4175-d89c-b010ab7efb5f"
      },
      "source": [
        "print(comic)"
      ],
      "execution_count": null,
      "outputs": [
        {
          "output_type": "stream",
          "text": [
            "Batman & Robin\n"
          ],
          "name": "stdout"
        }
      ]
    },
    {
      "cell_type": "code",
      "metadata": {
        "colab": {
          "base_uri": "https://localhost:8080/"
        },
        "id": "LvKOwpQDG613",
        "outputId": "4f8a611f-03a6-4225-9b60-4da47a52b5e7"
      },
      "source": [
        "print(f'{name}{comic}')"
      ],
      "execution_count": null,
      "outputs": [
        {
          "output_type": "stream",
          "text": [
            "BatmanBatman & Robin\n"
          ],
          "name": "stdout"
        }
      ]
    },
    {
      "cell_type": "code",
      "metadata": {
        "colab": {
          "base_uri": "https://localhost:8080/"
        },
        "id": "HZpIJ5z_HJqG",
        "outputId": "c2d8a43b-1757-4798-b287-c3422fe759a9"
      },
      "source": [
        "print(f'{name}')"
      ],
      "execution_count": null,
      "outputs": [
        {
          "output_type": "stream",
          "text": [
            "Batman\n"
          ],
          "name": "stdout"
        }
      ]
    },
    {
      "cell_type": "code",
      "metadata": {
        "colab": {
          "base_uri": "https://localhost:8080/"
        },
        "id": "ui4BhwrSHSCq",
        "outputId": "eded6599-2a14-4162-d9ba-c079b3977857"
      },
      "source": [
        "type(10)"
      ],
      "execution_count": null,
      "outputs": [
        {
          "output_type": "execute_result",
          "data": {
            "text/plain": [
              "int"
            ]
          },
          "metadata": {
            "tags": []
          },
          "execution_count": 26
        }
      ]
    },
    {
      "cell_type": "code",
      "metadata": {
        "colab": {
          "base_uri": "https://localhost:8080/"
        },
        "id": "PLNmjNVYHady",
        "outputId": "7b8df6f7-e2fb-4394-cfd4-b82b894366ba"
      },
      "source": [
        "type(10)\r\n",
        "type(10.5)"
      ],
      "execution_count": null,
      "outputs": [
        {
          "output_type": "execute_result",
          "data": {
            "text/plain": [
              "float"
            ]
          },
          "metadata": {
            "tags": []
          },
          "execution_count": 27
        }
      ]
    },
    {
      "cell_type": "code",
      "metadata": {
        "colab": {
          "base_uri": "https://localhost:8080/"
        },
        "id": "gcFUmnXlHeiS",
        "outputId": "c85cb33a-aa57-4fe9-9a36-238dee982f0e"
      },
      "source": [
        "print(type(10))"
      ],
      "execution_count": null,
      "outputs": [
        {
          "output_type": "stream",
          "text": [
            "<class 'int'>\n"
          ],
          "name": "stdout"
        }
      ]
    },
    {
      "cell_type": "code",
      "metadata": {
        "colab": {
          "base_uri": "https://localhost:8080/"
        },
        "id": "sYxHx0LBHiNm",
        "outputId": "4e582ae9-b78b-425c-a114-9656de13edf6"
      },
      "source": [
        "name = input(\"Name ?\")"
      ],
      "execution_count": null,
      "outputs": [
        {
          "output_type": "stream",
          "text": [
            "Name ?Ashish\n"
          ],
          "name": "stdout"
        }
      ]
    },
    {
      "cell_type": "code",
      "metadata": {
        "colab": {
          "base_uri": "https://localhost:8080/",
          "height": 35
        },
        "id": "lot0kbN3HvYI",
        "outputId": "eb6f84fc-1215-4fa5-bbcd-1c83f0a44057"
      },
      "source": [
        "name"
      ],
      "execution_count": null,
      "outputs": [
        {
          "output_type": "execute_result",
          "data": {
            "application/vnd.google.colaboratory.intrinsic+json": {
              "type": "string"
            },
            "text/plain": [
              "'Ashish'"
            ]
          },
          "metadata": {
            "tags": []
          },
          "execution_count": 30
        }
      ]
    },
    {
      "cell_type": "code",
      "metadata": {
        "colab": {
          "base_uri": "https://localhost:8080/"
        },
        "id": "ahwpOONAHyuh",
        "outputId": "18f417e2-888c-4930-b9ec-0488200d10ec"
      },
      "source": [
        "name = input(\"Name ?\\n\")"
      ],
      "execution_count": null,
      "outputs": [
        {
          "output_type": "stream",
          "text": [
            "Name ?\n",
            "Ashish\n"
          ],
          "name": "stdout"
        }
      ]
    },
    {
      "cell_type": "code",
      "metadata": {
        "colab": {
          "base_uri": "https://localhost:8080/",
          "height": 35
        },
        "id": "sgGmj9jRH3Oy",
        "outputId": "d546ae2d-6e3a-4299-8a6c-afdabd6e9092"
      },
      "source": [
        "name\r\n"
      ],
      "execution_count": null,
      "outputs": [
        {
          "output_type": "execute_result",
          "data": {
            "application/vnd.google.colaboratory.intrinsic+json": {
              "type": "string"
            },
            "text/plain": [
              "'Ashish'"
            ]
          },
          "metadata": {
            "tags": []
          },
          "execution_count": 32
        }
      ]
    },
    {
      "cell_type": "code",
      "metadata": {
        "colab": {
          "base_uri": "https://localhost:8080/"
        },
        "id": "0FNEuOibH_PV",
        "outputId": "910d9ae8-3355-4227-d496-dc94e00455bc"
      },
      "source": [
        "name = input('Name:')\r\n",
        "weight = float(input('Weight in kgs:'))\r\n",
        "weightPounds = print(f'Hello, your weight in pounds is {weight*2.2046}')\r\n"
      ],
      "execution_count": null,
      "outputs": [
        {
          "output_type": "stream",
          "text": [
            "Name:Ashish\n",
            "Weight in kgs:75.5\n",
            "Hello, your weight in pounds is 166.4473\n"
          ],
          "name": "stdout"
        }
      ]
    },
    {
      "cell_type": "code",
      "metadata": {
        "colab": {
          "base_uri": "https://localhost:8080/"
        },
        "id": "e2SH5O5rK12F",
        "outputId": "59e63a61-1457-45db-83af-5b6bcbb43271"
      },
      "source": [
        "temp = int(input('Please enter the temperature: '))\r\n",
        "if temp >= 30:\r\n",
        "  print(\"It's a hot day\")\r\n",
        "elif temp <= 10:\r\n",
        "  print(\"It's a cold day\")\r\n",
        "else:\r\n",
        "  print(\"It's a pleasant day\")"
      ],
      "execution_count": null,
      "outputs": [
        {
          "output_type": "stream",
          "text": [
            "Please enter the temperature: 11\n",
            "It's a pleasant day\n"
          ],
          "name": "stdout"
        }
      ]
    },
    {
      "cell_type": "code",
      "metadata": {
        "id": "JaAnozWzMn3v",
        "colab": {
          "base_uri": "https://localhost:8080/"
        },
        "outputId": "5cf25627-4f40-41c8-9678-c85b14618791"
      },
      "source": [
        "i = 1\r\n",
        "while i<=5:\r\n",
        "  print('*'*i)\r\n",
        "  i +=1\r\n",
        "print('Done')"
      ],
      "execution_count": null,
      "outputs": [
        {
          "output_type": "stream",
          "text": [
            "*\n",
            "**\n",
            "***\n",
            "****\n",
            "*****\n",
            "Done\n"
          ],
          "name": "stdout"
        }
      ]
    },
    {
      "cell_type": "code",
      "metadata": {
        "colab": {
          "base_uri": "https://localhost:8080/"
        },
        "id": "HjmyijAkM4NS",
        "outputId": "e4015628-6247-44ca-99d4-b0ac6deb8318"
      },
      "source": [
        "for i in range(20,10,-3):\r\n",
        "  print(i)"
      ],
      "execution_count": null,
      "outputs": [
        {
          "output_type": "stream",
          "text": [
            "20\n",
            "17\n",
            "14\n",
            "11\n"
          ],
          "name": "stdout"
        }
      ]
    },
    {
      "cell_type": "code",
      "metadata": {
        "colab": {
          "base_uri": "https://localhost:8080/"
        },
        "id": "1E1fn51pNdk1",
        "outputId": "97cfa1d3-d9a4-47f6-ca82-fb8e8b98d77b"
      },
      "source": [
        "for i in range(10,20,3):\r\n",
        "  print(i)"
      ],
      "execution_count": null,
      "outputs": [
        {
          "output_type": "stream",
          "text": [
            "10\n",
            "13\n",
            "16\n",
            "19\n"
          ],
          "name": "stdout"
        }
      ]
    },
    {
      "cell_type": "code",
      "metadata": {
        "colab": {
          "base_uri": "https://localhost:8080/"
        },
        "id": "Ok5T42PWN0DF",
        "outputId": "954ee0f5-9d94-441f-9197-1ca14987e050"
      },
      "source": [
        "prices = [20,30,25,40,35]  #this is a list\r\n",
        "total = 0\r\n",
        "for item in prices:  # pulling data from list, not range with start,stop specifications\r\n",
        "  total+=item\r\n",
        "  print(f'{total}')\r\n"
      ],
      "execution_count": null,
      "outputs": [
        {
          "output_type": "stream",
          "text": [
            "20\n",
            "50\n",
            "75\n",
            "115\n",
            "150\n"
          ],
          "name": "stdout"
        }
      ]
    },
    {
      "cell_type": "code",
      "metadata": {
        "colab": {
          "base_uri": "https://localhost:8080/"
        },
        "id": "Itw2iwLROzA-",
        "outputId": "50bcf003-45c0-455f-c5d3-33cd6c81b718"
      },
      "source": [
        "prices = [20,30,25,40,35]  #this is a list\r\n",
        "total = 0\r\n",
        "for item in prices:  # pulling data from list, not range with start,stop specifications\r\n",
        "  total+=item\r\n",
        "print(f'{total}')"
      ],
      "execution_count": null,
      "outputs": [
        {
          "output_type": "stream",
          "text": [
            "150\n"
          ],
          "name": "stdout"
        }
      ]
    },
    {
      "cell_type": "code",
      "metadata": {
        "colab": {
          "base_uri": "https://localhost:8080/"
        },
        "id": "IfnjfEakO39k",
        "outputId": "aa410540-1585-43a7-bf3d-cd6a67cde856"
      },
      "source": [
        "prices = [20,30,25,40,35]  #this is a list\r\n",
        "total = 0\r\n",
        "for item in prices:  # pulling data from list, not range with start,stop specifications\r\n",
        "  total+=item\r\n",
        "print(total)"
      ],
      "execution_count": null,
      "outputs": [
        {
          "output_type": "stream",
          "text": [
            "150\n"
          ],
          "name": "stdout"
        }
      ]
    },
    {
      "cell_type": "code",
      "metadata": {
        "colab": {
          "base_uri": "https://localhost:8080/"
        },
        "id": "3j7AwZJZPFjX",
        "outputId": "393006e6-3b07-48cb-f4e1-62d4ad2f4197"
      },
      "source": [
        "for x in range(4):\r\n",
        "  for y in range(4):\r\n",
        "    print(f'{x},{y}')\r\n"
      ],
      "execution_count": null,
      "outputs": [
        {
          "output_type": "stream",
          "text": [
            "0,0\n",
            "0,1\n",
            "0,2\n",
            "0,3\n",
            "1,0\n",
            "1,1\n",
            "1,2\n",
            "1,3\n",
            "2,0\n",
            "2,1\n",
            "2,2\n",
            "2,3\n",
            "3,0\n",
            "3,1\n",
            "3,2\n",
            "3,3\n"
          ],
          "name": "stdout"
        }
      ]
    },
    {
      "cell_type": "code",
      "metadata": {
        "id": "N9RmGwg0P4eW"
      },
      "source": [
        "import math"
      ],
      "execution_count": null,
      "outputs": []
    },
    {
      "cell_type": "code",
      "metadata": {
        "colab": {
          "base_uri": "https://localhost:8080/"
        },
        "id": "LIIr8N-0QSA7",
        "outputId": "4eac2933-8435-4189-fd4a-3d8a109eec41"
      },
      "source": [
        "prices = [20,30,25,40,35]  #this is a list\r\n",
        "max = prices[0]\r\n",
        "for item in prices:  # pulling data from list, not range with start,stop specifications\r\n",
        "  if item > max:\r\n",
        "    max = item\r\n",
        "  print(f'{max}')\r\n",
        "print(f'{max}')"
      ],
      "execution_count": null,
      "outputs": [
        {
          "output_type": "stream",
          "text": [
            "20\n",
            "30\n",
            "30\n",
            "40\n",
            "40\n",
            "40\n"
          ],
          "name": "stdout"
        }
      ]
    },
    {
      "cell_type": "code",
      "metadata": {
        "colab": {
          "base_uri": "https://localhost:8080/"
        },
        "id": "hzU-tDlFTDer",
        "outputId": "fa0dc9f8-8d89-411e-c869-5b93c9410d20"
      },
      "source": [
        "def greet_user():\r\n",
        "  print('Hi there')\r\n",
        "  print('Good Morning')\r\n",
        "\r\n",
        "print('start')\r\n",
        "greet_user()\r\n",
        "print('stop')"
      ],
      "execution_count": null,
      "outputs": [
        {
          "output_type": "stream",
          "text": [
            "start\n",
            "Hi there\n",
            "Good Morning\n",
            "stop\n"
          ],
          "name": "stdout"
        }
      ]
    },
    {
      "cell_type": "code",
      "metadata": {
        "colab": {
          "base_uri": "https://localhost:8080/"
        },
        "id": "SMNexLYhTcfi",
        "outputId": "541d21b9-f3a4-4acc-dcf7-c8eb2937f034"
      },
      "source": [
        "def greet_user(name):\r\n",
        "  print(f'Hi {name}')\r\n",
        "  print('Good morning')\r\n",
        "  print(f\"Goodbye {name}\")\r\n",
        "\r\n",
        "print('start')\r\n",
        "greet_user(\"Ashish\")\r\n",
        "print('stop')"
      ],
      "execution_count": null,
      "outputs": [
        {
          "output_type": "stream",
          "text": [
            "start\n",
            "Hi Ashish\n",
            "Good morning\n",
            "Goodbye Ashish\n",
            "stop\n"
          ],
          "name": "stdout"
        }
      ]
    },
    {
      "cell_type": "code",
      "metadata": {
        "colab": {
          "base_uri": "https://localhost:8080/"
        },
        "id": "DPelF47uT9m-",
        "outputId": "7bc8e122-967f-4af9-f5f4-51c8445b4107"
      },
      "source": [
        "def greet_user(name):\r\n",
        "  print(f'Hi {name}')\r\n",
        "  print('Good morning')\r\n",
        "  print(f\"Goodbye {name}\")\r\n",
        "\r\n",
        "print('start')\r\n",
        "greet_user(input(\" \"))\r\n",
        "print('stop')\r\n"
      ],
      "execution_count": null,
      "outputs": [
        {
          "output_type": "stream",
          "text": [
            "start\n",
            " Ashish\n",
            "Hi Ashish\n",
            "Good morning\n",
            "Goodbye Ashish\n",
            "stop\n"
          ],
          "name": "stdout"
        }
      ]
    },
    {
      "cell_type": "code",
      "metadata": {
        "colab": {
          "base_uri": "https://localhost:8080/"
        },
        "id": "fQw9GRkIUqMn",
        "outputId": "7bbc3709-f86b-4b5e-b14b-c83423534dcb"
      },
      "source": [
        "def greet_user(name):\r\n",
        "  print(f'Hi {name}')\r\n",
        "  print('Good morning')\r\n",
        "  print(f\"Goodbye {name}\")\r\n",
        "\r\n",
        "print('start')\r\n",
        "greet_user(input(\"Enter your name: \"))\r\n",
        "print('stop')"
      ],
      "execution_count": null,
      "outputs": [
        {
          "output_type": "stream",
          "text": [
            "start\n",
            "Enter your name: Batman\n",
            "Hi Batman\n",
            "Good morning\n",
            "Goodbye Batman\n",
            "stop\n"
          ],
          "name": "stdout"
        }
      ]
    },
    {
      "cell_type": "code",
      "metadata": {
        "id": "I71CLaAwVI7f"
      },
      "source": [
        "list1 = [\"Batman\",\"Robin\", 20, 3, True] #list ia also a keyword so use list1 or something else instead of list"
      ],
      "execution_count": null,
      "outputs": []
    },
    {
      "cell_type": "code",
      "metadata": {
        "colab": {
          "base_uri": "https://localhost:8080/"
        },
        "id": "pwCNTMm8VXXU",
        "outputId": "ca4475e2-7f50-416d-e20e-a0c54f00276d"
      },
      "source": [
        "type(list1)"
      ],
      "execution_count": null,
      "outputs": [
        {
          "output_type": "execute_result",
          "data": {
            "text/plain": [
              "list"
            ]
          },
          "metadata": {
            "tags": []
          },
          "execution_count": 30
        }
      ]
    },
    {
      "cell_type": "code",
      "metadata": {
        "colab": {
          "base_uri": "https://localhost:8080/"
        },
        "id": "-hcBxU5HVhCw",
        "outputId": "2e5ac542-5786-47a0-db93-64b9feab39d5"
      },
      "source": [
        "list1[4]"
      ],
      "execution_count": null,
      "outputs": [
        {
          "output_type": "execute_result",
          "data": {
            "text/plain": [
              "True"
            ]
          },
          "metadata": {
            "tags": []
          },
          "execution_count": 32
        }
      ]
    },
    {
      "cell_type": "code",
      "metadata": {
        "id": "AIEDctoCVylk"
      },
      "source": [
        "list1.append('Ash')"
      ],
      "execution_count": null,
      "outputs": []
    },
    {
      "cell_type": "code",
      "metadata": {
        "colab": {
          "base_uri": "https://localhost:8080/"
        },
        "id": "F2o6VwXyV7Se",
        "outputId": "80e3b6ea-0e46-4681-b3aa-d086d8652280"
      },
      "source": [
        "list1"
      ],
      "execution_count": null,
      "outputs": [
        {
          "output_type": "execute_result",
          "data": {
            "text/plain": [
              "['Batman', 'Robin', 20, 3, True, 'Ash']"
            ]
          },
          "metadata": {
            "tags": []
          },
          "execution_count": 34
        }
      ]
    },
    {
      "cell_type": "code",
      "metadata": {
        "id": "Gf7aEHSnV8sQ"
      },
      "source": [
        "numbers = [2,3,6,7,1]"
      ],
      "execution_count": null,
      "outputs": []
    },
    {
      "cell_type": "code",
      "metadata": {
        "colab": {
          "base_uri": "https://localhost:8080/"
        },
        "id": "w26vqCfcWED1",
        "outputId": "e3118942-b0d1-4c53-ff30-7957f922c32d"
      },
      "source": [
        "numbers.sort()\r\n",
        "numbers"
      ],
      "execution_count": null,
      "outputs": [
        {
          "output_type": "execute_result",
          "data": {
            "text/plain": [
              "[1, 2, 3, 6, 7]"
            ]
          },
          "metadata": {
            "tags": []
          },
          "execution_count": 41
        }
      ]
    },
    {
      "cell_type": "code",
      "metadata": {
        "id": "n9ppmJjzWTj7"
      },
      "source": [
        "multi_d = [[\"MAnish\", \"Ashish\"], [20,30]]"
      ],
      "execution_count": 5,
      "outputs": []
    },
    {
      "cell_type": "code",
      "metadata": {
        "colab": {
          "base_uri": "https://localhost:8080/"
        },
        "id": "2l96yrTTWu_N",
        "outputId": "bcb57c1a-2f0d-4cec-c043-48555b75738e"
      },
      "source": [
        "type(multi_d)"
      ],
      "execution_count": null,
      "outputs": [
        {
          "output_type": "execute_result",
          "data": {
            "text/plain": [
              "list"
            ]
          },
          "metadata": {
            "tags": []
          },
          "execution_count": 43
        }
      ]
    },
    {
      "cell_type": "code",
      "metadata": {
        "colab": {
          "base_uri": "https://localhost:8080/"
        },
        "id": "QxREukhlWxT6",
        "outputId": "d2ba7117-7ae3-44ed-d318-63a07eb15117"
      },
      "source": [
        "multi_d[1][0]"
      ],
      "execution_count": 2,
      "outputs": [
        {
          "output_type": "execute_result",
          "data": {
            "text/plain": [
              "20"
            ]
          },
          "metadata": {
            "tags": []
          },
          "execution_count": 2
        }
      ]
    },
    {
      "cell_type": "code",
      "metadata": {
        "colab": {
          "base_uri": "https://localhost:8080/",
          "height": 35
        },
        "id": "x0339vl_W9j2",
        "outputId": "50cb7229-5396-4dac-f807-3b011efb80c6"
      },
      "source": [
        "multi_d[0][0]"
      ],
      "execution_count": 3,
      "outputs": [
        {
          "output_type": "execute_result",
          "data": {
            "application/vnd.google.colaboratory.intrinsic+json": {
              "type": "string"
            },
            "text/plain": [
              "'MAnish, Ashish'"
            ]
          },
          "metadata": {
            "tags": []
          },
          "execution_count": 3
        }
      ]
    },
    {
      "cell_type": "code",
      "metadata": {
        "colab": {
          "base_uri": "https://localhost:8080/"
        },
        "id": "loKoy53gXJS8",
        "outputId": "727d971f-8788-4a8c-d676-b0b71a905839"
      },
      "source": [
        "multi_d[1][1]"
      ],
      "execution_count": 4,
      "outputs": [
        {
          "output_type": "execute_result",
          "data": {
            "text/plain": [
              "30"
            ]
          },
          "metadata": {
            "tags": []
          },
          "execution_count": 4
        }
      ]
    },
    {
      "cell_type": "code",
      "metadata": {
        "id": "149vUwfMXqI-",
        "colab": {
          "base_uri": "https://localhost:8080/",
          "height": 35
        },
        "outputId": "ab6b980c-ff41-4e2c-9f2a-b17299907aeb"
      },
      "source": [
        "multi_d[0][1]"
      ],
      "execution_count": 7,
      "outputs": [
        {
          "output_type": "execute_result",
          "data": {
            "application/vnd.google.colaboratory.intrinsic+json": {
              "type": "string"
            },
            "text/plain": [
              "'Ashish'"
            ]
          },
          "metadata": {
            "tags": []
          },
          "execution_count": 7
        }
      ]
    },
    {
      "cell_type": "code",
      "metadata": {
        "id": "poA_rILE8MjV"
      },
      "source": [
        "address = {'Street': '#20, Park Street',\r\n",
        "           'City' : 'Chennai',\r\n",
        "           'STATE' : 'Tamil Nadu',\r\n",
        "           'Country' : 'INDIA'}"
      ],
      "execution_count": 8,
      "outputs": []
    },
    {
      "cell_type": "code",
      "metadata": {
        "colab": {
          "base_uri": "https://localhost:8080/"
        },
        "id": "7GOAfpmP82Ri",
        "outputId": "49735d96-16c2-4884-d3d5-2b1b46e4af2c"
      },
      "source": [
        "address"
      ],
      "execution_count": 9,
      "outputs": [
        {
          "output_type": "execute_result",
          "data": {
            "text/plain": [
              "{'City': 'Chennai',\n",
              " 'Country': 'INDIA',\n",
              " 'STATE': 'Tamil Nadu',\n",
              " 'Street': '#20, Park Street'}"
            ]
          },
          "metadata": {
            "tags": []
          },
          "execution_count": 9
        }
      ]
    },
    {
      "cell_type": "code",
      "metadata": {
        "colab": {
          "base_uri": "https://localhost:8080/"
        },
        "id": "HQi2sF_C89BF",
        "outputId": "428b171f-9ecc-49e9-aa63-7da5b6986393"
      },
      "source": [
        "type(address)"
      ],
      "execution_count": 10,
      "outputs": [
        {
          "output_type": "execute_result",
          "data": {
            "text/plain": [
              "dict"
            ]
          },
          "metadata": {
            "tags": []
          },
          "execution_count": 10
        }
      ]
    },
    {
      "cell_type": "code",
      "metadata": {
        "colab": {
          "base_uri": "https://localhost:8080/",
          "height": 35
        },
        "id": "LKyNwi019ASd",
        "outputId": "62bcd345-6b1c-4577-b901-a9892dfd7f99"
      },
      "source": [
        "address['STATE']"
      ],
      "execution_count": 12,
      "outputs": [
        {
          "output_type": "execute_result",
          "data": {
            "application/vnd.google.colaboratory.intrinsic+json": {
              "type": "string"
            },
            "text/plain": [
              "'Tamil Nadu'"
            ]
          },
          "metadata": {
            "tags": []
          },
          "execution_count": 12
        }
      ]
    },
    {
      "cell_type": "code",
      "metadata": {
        "colab": {
          "base_uri": "https://localhost:8080/",
          "height": 35
        },
        "id": "u4SpMTWc9gPM",
        "outputId": "50f516c7-23da-4db5-c35f-1c5f2095be70"
      },
      "source": [
        "address['Street']"
      ],
      "execution_count": 14,
      "outputs": [
        {
          "output_type": "execute_result",
          "data": {
            "application/vnd.google.colaboratory.intrinsic+json": {
              "type": "string"
            },
            "text/plain": [
              "'#20, Park Street'"
            ]
          },
          "metadata": {
            "tags": []
          },
          "execution_count": 14
        }
      ]
    },
    {
      "cell_type": "code",
      "metadata": {
        "id": "tPrJ8f9W9pUu"
      },
      "source": [
        "address['pincode'] = 600128  #Dictionaries are mutable"
      ],
      "execution_count": 17,
      "outputs": []
    },
    {
      "cell_type": "code",
      "metadata": {
        "colab": {
          "base_uri": "https://localhost:8080/"
        },
        "id": "uJ37LyKR9_nn",
        "outputId": "a9643462-d38e-4280-d398-0290b20291c6"
      },
      "source": [
        "address"
      ],
      "execution_count": 16,
      "outputs": [
        {
          "output_type": "execute_result",
          "data": {
            "text/plain": [
              "{'City': 'Chennai',\n",
              " 'Country': 'INDIA',\n",
              " 'STATE': 'Tamil Nadu',\n",
              " 'Street': '#20, Park Street',\n",
              " 'pincode': 600128}"
            ]
          },
          "metadata": {
            "tags": []
          },
          "execution_count": 16
        }
      ]
    },
    {
      "cell_type": "code",
      "metadata": {
        "colab": {
          "base_uri": "https://localhost:8080/"
        },
        "id": "5p7mhLOR-BuO",
        "outputId": "c46b00b5-dbb3-40cf-9954-78a8331708aa"
      },
      "source": [
        "address.keys()"
      ],
      "execution_count": 18,
      "outputs": [
        {
          "output_type": "execute_result",
          "data": {
            "text/plain": [
              "dict_keys(['Street', 'City', 'STATE', 'Country', 'pincode'])"
            ]
          },
          "metadata": {
            "tags": []
          },
          "execution_count": 18
        }
      ]
    },
    {
      "cell_type": "code",
      "metadata": {
        "id": "HZkSGu84-Msn"
      },
      "source": [
        "import random"
      ],
      "execution_count": 19,
      "outputs": []
    },
    {
      "cell_type": "code",
      "metadata": {
        "id": "vR_Fi9_o-Y90"
      },
      "source": [
        "members = ['Biden','Putin','Trudeau','Modi','Angela']"
      ],
      "execution_count": 20,
      "outputs": []
    },
    {
      "cell_type": "code",
      "metadata": {
        "colab": {
          "base_uri": "https://localhost:8080/",
          "height": 35
        },
        "id": "H_dmq6cQ_GbZ",
        "outputId": "586e0f21-5999-43b0-d687-77191bec7af6"
      },
      "source": [
        "random.choice(members)"
      ],
      "execution_count": 21,
      "outputs": [
        {
          "output_type": "execute_result",
          "data": {
            "application/vnd.google.colaboratory.intrinsic+json": {
              "type": "string"
            },
            "text/plain": [
              "'Modi'"
            ]
          },
          "metadata": {
            "tags": []
          },
          "execution_count": 21
        }
      ]
    },
    {
      "cell_type": "code",
      "metadata": {
        "colab": {
          "base_uri": "https://localhost:8080/",
          "height": 35
        },
        "id": "NFB9lJNJ_J4N",
        "outputId": "e831df4d-9a34-4b9a-a24b-8198059d4d04"
      },
      "source": [
        "random.choice(members)"
      ],
      "execution_count": 22,
      "outputs": [
        {
          "output_type": "execute_result",
          "data": {
            "application/vnd.google.colaboratory.intrinsic+json": {
              "type": "string"
            },
            "text/plain": [
              "'Angela'"
            ]
          },
          "metadata": {
            "tags": []
          },
          "execution_count": 22
        }
      ]
    },
    {
      "cell_type": "code",
      "metadata": {
        "colab": {
          "base_uri": "https://localhost:8080/"
        },
        "id": "_thtEOnx_PSY",
        "outputId": "9744405c-f866-467c-b0f0-93494383aba3"
      },
      "source": [
        "import random\r\n",
        "for i in range(10):\r\n",
        "  print(random.randint(20,40))"
      ],
      "execution_count": 23,
      "outputs": [
        {
          "output_type": "stream",
          "text": [
            "34\n",
            "27\n",
            "27\n",
            "29\n",
            "37\n",
            "20\n",
            "38\n",
            "38\n",
            "28\n",
            "25\n"
          ],
          "name": "stdout"
        }
      ]
    },
    {
      "cell_type": "code",
      "metadata": {
        "colab": {
          "base_uri": "https://localhost:8080/"
        },
        "id": "qHgRVMQF_fCP",
        "outputId": "9b3a2f19-8983-4bff-d64f-78465dcb1e16"
      },
      "source": [
        "import time\r\n",
        "for items in range(0,10):\r\n",
        "  print(items)\r\n",
        "  time.sleep(1)    #prints after every second"
      ],
      "execution_count": 27,
      "outputs": [
        {
          "output_type": "stream",
          "text": [
            "0\n",
            "1\n",
            "2\n",
            "3\n",
            "4\n",
            "5\n",
            "6\n",
            "7\n",
            "8\n",
            "9\n"
          ],
          "name": "stdout"
        }
      ]
    },
    {
      "cell_type": "markdown",
      "metadata": {
        "id": "gbn-rrxqASAy"
      },
      "source": [
        "PANDAS\r\n"
      ]
    },
    {
      "cell_type": "code",
      "metadata": {
        "id": "fRmzuOgCABuf"
      },
      "source": [
        "cars = [\"Toyota\",\"Honda\",\"Tesla\",\"Audi\",\"BMW\"]"
      ],
      "execution_count": 28,
      "outputs": []
    },
    {
      "cell_type": "code",
      "metadata": {
        "colab": {
          "base_uri": "https://localhost:8080/"
        },
        "id": "lLuP7KlxBEEI",
        "outputId": "eea24548-d016-49a6-a2b4-f69aaedeef13"
      },
      "source": [
        "type(cars)"
      ],
      "execution_count": 29,
      "outputs": [
        {
          "output_type": "execute_result",
          "data": {
            "text/plain": [
              "list"
            ]
          },
          "metadata": {
            "tags": []
          },
          "execution_count": 29
        }
      ]
    },
    {
      "cell_type": "code",
      "metadata": {
        "colab": {
          "base_uri": "https://localhost:8080/"
        },
        "id": "G1qBHoeUBFkI",
        "outputId": "b25390dc-be26-4401-ec96-85370f2a7ce2"
      },
      "source": [
        "cars"
      ],
      "execution_count": 30,
      "outputs": [
        {
          "output_type": "execute_result",
          "data": {
            "text/plain": [
              "['Toyota', 'Honda', 'Tesla', 'Audi', 'BMW']"
            ]
          },
          "metadata": {
            "tags": []
          },
          "execution_count": 30
        }
      ]
    },
    {
      "cell_type": "code",
      "metadata": {
        "colab": {
          "base_uri": "https://localhost:8080/"
        },
        "id": "1g8Ery5WBGig",
        "outputId": "c36e4975-a3f4-4dde-9b1f-29da6b982499"
      },
      "source": [
        "import pandas as pd\r\n",
        "pd.Series(cars)     #Series is list with indices"
      ],
      "execution_count": 38,
      "outputs": [
        {
          "output_type": "execute_result",
          "data": {
            "text/plain": [
              "0    Toyota\n",
              "1     Honda\n",
              "2     Tesla\n",
              "3      Audi\n",
              "4       BMW\n",
              "dtype: object"
            ]
          },
          "metadata": {
            "tags": []
          },
          "execution_count": 38
        }
      ]
    },
    {
      "cell_type": "code",
      "metadata": {
        "colab": {
          "base_uri": "https://localhost:8080/"
        },
        "id": "4NY-rAKpBPA1",
        "outputId": "28f6fc03-2aa4-4f98-f2a2-421698289459"
      },
      "source": [
        "cars"
      ],
      "execution_count": 37,
      "outputs": [
        {
          "output_type": "execute_result",
          "data": {
            "text/plain": [
              "['Toyota', 'Honda', 'Tesla', 'Audi', 'BMW']"
            ]
          },
          "metadata": {
            "tags": []
          },
          "execution_count": 37
        }
      ]
    },
    {
      "cell_type": "code",
      "metadata": {
        "id": "IpuIHh_FBsre"
      },
      "source": [
        "cars1 = pd.Series(cars)"
      ],
      "execution_count": 39,
      "outputs": []
    },
    {
      "cell_type": "code",
      "metadata": {
        "colab": {
          "base_uri": "https://localhost:8080/"
        },
        "id": "JMeaz6ePCiIz",
        "outputId": "2a23e198-ff03-44a2-9cdd-1f4571a87e59"
      },
      "source": [
        "cars1"
      ],
      "execution_count": 40,
      "outputs": [
        {
          "output_type": "execute_result",
          "data": {
            "text/plain": [
              "0    Toyota\n",
              "1     Honda\n",
              "2     Tesla\n",
              "3      Audi\n",
              "4       BMW\n",
              "dtype: object"
            ]
          },
          "metadata": {
            "tags": []
          },
          "execution_count": 40
        }
      ]
    },
    {
      "cell_type": "code",
      "metadata": {
        "colab": {
          "base_uri": "https://localhost:8080/"
        },
        "id": "ilPs6-K1CmF7",
        "outputId": "28396ad0-397d-437f-aeb6-349ff7d78ee5"
      },
      "source": [
        "type(cars1)"
      ],
      "execution_count": 41,
      "outputs": [
        {
          "output_type": "execute_result",
          "data": {
            "text/plain": [
              "pandas.core.series.Series"
            ]
          },
          "metadata": {
            "tags": []
          },
          "execution_count": 41
        }
      ]
    },
    {
      "cell_type": "code",
      "metadata": {
        "colab": {
          "base_uri": "https://localhost:8080/"
        },
        "id": "zVgtCP8OCvtU",
        "outputId": "1d931522-104c-4f5f-aadf-c3535354deff"
      },
      "source": [
        "food = ['Pasta', 'Sambhar','Samosa','Momos','Vada-Pav','Biryani']\r\n",
        "Weekdays = ['Mon','Tue','Wed','Thu','Fri','Sat']\r\n",
        "pd.Series(food,Weekdays)"
      ],
      "execution_count": 46,
      "outputs": [
        {
          "output_type": "execute_result",
          "data": {
            "text/plain": [
              "Mon       Pasta\n",
              "Tue     Sambhar\n",
              "Wed      Samosa\n",
              "Thu       Momos\n",
              "Fri    Vada-Pav\n",
              "Sat     Biryani\n",
              "dtype: object"
            ]
          },
          "metadata": {
            "tags": []
          },
          "execution_count": 46
        }
      ]
    },
    {
      "cell_type": "code",
      "metadata": {
        "colab": {
          "base_uri": "https://localhost:8080/"
        },
        "id": "Jw9dg_7xDL8y",
        "outputId": "783ad8d1-7da6-41d8-96e5-aeaaf33b257b"
      },
      "source": [
        "pd.Series(index = food, data = Weekdays)  #The order of parameters data and index in Series class is swapped "
      ],
      "execution_count": 48,
      "outputs": [
        {
          "output_type": "execute_result",
          "data": {
            "text/plain": [
              "Pasta       Mon\n",
              "Sambhar     Tue\n",
              "Samosa      Wed\n",
              "Momos       Thu\n",
              "Vada-Pav    Fri\n",
              "Biryani     Sat\n",
              "dtype: object"
            ]
          },
          "metadata": {
            "tags": []
          },
          "execution_count": 48
        }
      ]
    },
    {
      "cell_type": "code",
      "metadata": {
        "id": "erUTmyMbEabf"
      },
      "source": [
        "raw = {'city':['Mumbai','Chennai','Delhi','Bangalore','Kolkata'],\r\n",
        "       'ranks':['1st','2nd','3rd','4th','5th'],\r\n",
        "       'Name':['Yash','Vasanth','Ishan','Pushpa','Ripanjan']}"
      ],
      "execution_count": 49,
      "outputs": []
    },
    {
      "cell_type": "code",
      "metadata": {
        "colab": {
          "base_uri": "https://localhost:8080/"
        },
        "id": "AlenIsqIF2UJ",
        "outputId": "2fcab8e1-cf5a-4953-ef41-2490bdc476a3"
      },
      "source": [
        "raw"
      ],
      "execution_count": 50,
      "outputs": [
        {
          "output_type": "execute_result",
          "data": {
            "text/plain": [
              "{'Name': ['Yash', 'Vasanth', 'Ishan', 'Pushpa', 'Ripanjan'],\n",
              " 'city': ['Mumbai', 'Chennai', 'Delhi', 'Bangalore', 'Kolkata'],\n",
              " 'ranks': ['1st', '2nd', '3rd', '4th', '5th']}"
            ]
          },
          "metadata": {
            "tags": []
          },
          "execution_count": 50
        }
      ]
    },
    {
      "cell_type": "code",
      "metadata": {
        "id": "DmprZ3JhF3b8"
      },
      "source": [
        "df = pd.DataFrame(raw, columns=['city','ranks','Name'])  # Other way of making tables. Other is Series."
      ],
      "execution_count": 51,
      "outputs": []
    },
    {
      "cell_type": "code",
      "metadata": {
        "colab": {
          "base_uri": "https://localhost:8080/",
          "height": 204
        },
        "id": "tywVuXWEGU66",
        "outputId": "6420ef17-1828-45c5-a67a-959b07768fc8"
      },
      "source": [
        "df"
      ],
      "execution_count": 52,
      "outputs": [
        {
          "output_type": "execute_result",
          "data": {
            "text/html": [
              "<div>\n",
              "<style scoped>\n",
              "    .dataframe tbody tr th:only-of-type {\n",
              "        vertical-align: middle;\n",
              "    }\n",
              "\n",
              "    .dataframe tbody tr th {\n",
              "        vertical-align: top;\n",
              "    }\n",
              "\n",
              "    .dataframe thead th {\n",
              "        text-align: right;\n",
              "    }\n",
              "</style>\n",
              "<table border=\"1\" class=\"dataframe\">\n",
              "  <thead>\n",
              "    <tr style=\"text-align: right;\">\n",
              "      <th></th>\n",
              "      <th>city</th>\n",
              "      <th>ranks</th>\n",
              "      <th>Name</th>\n",
              "    </tr>\n",
              "  </thead>\n",
              "  <tbody>\n",
              "    <tr>\n",
              "      <th>0</th>\n",
              "      <td>Mumbai</td>\n",
              "      <td>1st</td>\n",
              "      <td>Yash</td>\n",
              "    </tr>\n",
              "    <tr>\n",
              "      <th>1</th>\n",
              "      <td>Chennai</td>\n",
              "      <td>2nd</td>\n",
              "      <td>Vasanth</td>\n",
              "    </tr>\n",
              "    <tr>\n",
              "      <th>2</th>\n",
              "      <td>Delhi</td>\n",
              "      <td>3rd</td>\n",
              "      <td>Ishan</td>\n",
              "    </tr>\n",
              "    <tr>\n",
              "      <th>3</th>\n",
              "      <td>Bangalore</td>\n",
              "      <td>4th</td>\n",
              "      <td>Pushpa</td>\n",
              "    </tr>\n",
              "    <tr>\n",
              "      <th>4</th>\n",
              "      <td>Kolkata</td>\n",
              "      <td>5th</td>\n",
              "      <td>Ripanjan</td>\n",
              "    </tr>\n",
              "  </tbody>\n",
              "</table>\n",
              "</div>"
            ],
            "text/plain": [
              "        city ranks      Name\n",
              "0     Mumbai   1st      Yash\n",
              "1    Chennai   2nd   Vasanth\n",
              "2      Delhi   3rd     Ishan\n",
              "3  Bangalore   4th    Pushpa\n",
              "4    Kolkata   5th  Ripanjan"
            ]
          },
          "metadata": {
            "tags": []
          },
          "execution_count": 52
        }
      ]
    },
    {
      "cell_type": "code",
      "metadata": {
        "colab": {
          "base_uri": "https://localhost:8080/"
        },
        "id": "I5SusgrNGYAZ",
        "outputId": "10c82004-bd8f-4c83-b8df-d41ec770e2e9"
      },
      "source": [
        "type(df)"
      ],
      "execution_count": 53,
      "outputs": [
        {
          "output_type": "execute_result",
          "data": {
            "text/plain": [
              "pandas.core.frame.DataFrame"
            ]
          },
          "metadata": {
            "tags": []
          },
          "execution_count": 53
        }
      ]
    },
    {
      "cell_type": "code",
      "metadata": {
        "id": "UyBag5nwGpXh"
      },
      "source": [
        "df.to_csv('trial1.csv')"
      ],
      "execution_count": 54,
      "outputs": []
    },
    {
      "cell_type": "code",
      "metadata": {
        "id": "LV9AubzLHgju"
      },
      "source": [
        ""
      ],
      "execution_count": null,
      "outputs": []
    }
  ]
}